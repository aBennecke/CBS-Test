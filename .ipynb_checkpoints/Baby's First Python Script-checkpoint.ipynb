{
 "cells": [
  {
   "cell_type": "code",
   "execution_count": null,
   "id": "0d07fae0",
   "metadata": {},
   "outputs": [],
   "source": [
    "print(\"Hello World\")"
   ]
  },
  {
   "cell_type": "code",
   "execution_count": null,
   "id": "d0c238b8",
   "metadata": {},
   "outputs": [],
   "source": [
    "def evenOrOdd(n):\n",
    "    if n==1:\n",
    "        return \"Odd\"\n",
    "    elif n==2:\n",
    "        return \"Even\"\n",
    "    elif n==3:\n",
    "        return \"Odd\"\n",
    "    else:\n",
    "        return \"That number is too big\""
   ]
  }
 ],
 "metadata": {
  "kernelspec": {
   "display_name": "Python 3 (ipykernel)",
   "language": "python",
   "name": "python3"
  },
  "language_info": {
   "codemirror_mode": {
    "name": "ipython",
    "version": 3
   },
   "file_extension": ".py",
   "mimetype": "text/x-python",
   "name": "python",
   "nbconvert_exporter": "python",
   "pygments_lexer": "ipython3",
   "version": "3.9.7"
  }
 },
 "nbformat": 4,
 "nbformat_minor": 5
}
